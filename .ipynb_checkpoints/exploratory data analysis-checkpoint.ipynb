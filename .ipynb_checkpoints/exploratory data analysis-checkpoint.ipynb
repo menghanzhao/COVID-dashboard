{
 "cells": [
  {
   "cell_type": "code",
   "execution_count": 20,
   "metadata": {},
   "outputs": [],
   "source": [
    "import pandas as pd\n",
    "import numpy as np\n",
    "import matplotlib.pyplot as plt\n",
    "from datetime import datetime"
   ]
  },
  {
   "cell_type": "code",
   "execution_count": 37,
   "metadata": {},
   "outputs": [],
   "source": [
    "df = pd.read_csv(r'C:\\Users\\mengh\\plotly dash covid app\\COVID-dashboard\\dataset\\covid_19_data.csv')"
   ]
  },
  {
   "cell_type": "code",
   "execution_count": 38,
   "metadata": {},
   "outputs": [],
   "source": [
    "df['ObservationDate'] = pd.to_datetime(df['ObservationDate'])"
   ]
  },
  {
   "cell_type": "code",
   "execution_count": 23,
   "metadata": {},
   "outputs": [
    {
     "data": {
      "text/plain": [
       "Timestamp('2021-05-29 00:00:00')"
      ]
     },
     "execution_count": 23,
     "metadata": {},
     "output_type": "execute_result"
    }
   ],
   "source": [
    "df['ObservationDate'].max()"
   ]
  },
  {
   "cell_type": "code",
   "execution_count": 24,
   "metadata": {},
   "outputs": [],
   "source": [
    "##    min observation date Jan 22, 2020\n",
    "##    max observation date May 29, 2021"
   ]
  },
  {
   "cell_type": "code",
   "execution_count": 6,
   "metadata": {},
   "outputs": [
    {
     "data": {
      "text/html": [
       "<div>\n",
       "<style scoped>\n",
       "    .dataframe tbody tr th:only-of-type {\n",
       "        vertical-align: middle;\n",
       "    }\n",
       "\n",
       "    .dataframe tbody tr th {\n",
       "        vertical-align: top;\n",
       "    }\n",
       "\n",
       "    .dataframe thead th {\n",
       "        text-align: right;\n",
       "    }\n",
       "</style>\n",
       "<table border=\"1\" class=\"dataframe\">\n",
       "  <thead>\n",
       "    <tr style=\"text-align: right;\">\n",
       "      <th></th>\n",
       "      <th>SNo</th>\n",
       "      <th>ObservationDate</th>\n",
       "      <th>Province/State</th>\n",
       "      <th>Country/Region</th>\n",
       "      <th>Last Update</th>\n",
       "      <th>Confirmed</th>\n",
       "      <th>Deaths</th>\n",
       "      <th>Recovered</th>\n",
       "    </tr>\n",
       "  </thead>\n",
       "  <tbody>\n",
       "    <tr>\n",
       "      <th>0</th>\n",
       "      <td>1</td>\n",
       "      <td>2020-01-22</td>\n",
       "      <td>Anhui</td>\n",
       "      <td>Mainland China</td>\n",
       "      <td>1/22/2020 17:00</td>\n",
       "      <td>1.0</td>\n",
       "      <td>0.0</td>\n",
       "      <td>0.0</td>\n",
       "    </tr>\n",
       "    <tr>\n",
       "      <th>1</th>\n",
       "      <td>2</td>\n",
       "      <td>2020-01-22</td>\n",
       "      <td>Beijing</td>\n",
       "      <td>Mainland China</td>\n",
       "      <td>1/22/2020 17:00</td>\n",
       "      <td>14.0</td>\n",
       "      <td>0.0</td>\n",
       "      <td>0.0</td>\n",
       "    </tr>\n",
       "    <tr>\n",
       "      <th>2</th>\n",
       "      <td>3</td>\n",
       "      <td>2020-01-22</td>\n",
       "      <td>Chongqing</td>\n",
       "      <td>Mainland China</td>\n",
       "      <td>1/22/2020 17:00</td>\n",
       "      <td>6.0</td>\n",
       "      <td>0.0</td>\n",
       "      <td>0.0</td>\n",
       "    </tr>\n",
       "    <tr>\n",
       "      <th>3</th>\n",
       "      <td>4</td>\n",
       "      <td>2020-01-22</td>\n",
       "      <td>Fujian</td>\n",
       "      <td>Mainland China</td>\n",
       "      <td>1/22/2020 17:00</td>\n",
       "      <td>1.0</td>\n",
       "      <td>0.0</td>\n",
       "      <td>0.0</td>\n",
       "    </tr>\n",
       "    <tr>\n",
       "      <th>4</th>\n",
       "      <td>5</td>\n",
       "      <td>2020-01-22</td>\n",
       "      <td>Gansu</td>\n",
       "      <td>Mainland China</td>\n",
       "      <td>1/22/2020 17:00</td>\n",
       "      <td>0.0</td>\n",
       "      <td>0.0</td>\n",
       "      <td>0.0</td>\n",
       "    </tr>\n",
       "    <tr>\n",
       "      <th>...</th>\n",
       "      <td>...</td>\n",
       "      <td>...</td>\n",
       "      <td>...</td>\n",
       "      <td>...</td>\n",
       "      <td>...</td>\n",
       "      <td>...</td>\n",
       "      <td>...</td>\n",
       "      <td>...</td>\n",
       "    </tr>\n",
       "    <tr>\n",
       "      <th>306424</th>\n",
       "      <td>306425</td>\n",
       "      <td>2021-05-29</td>\n",
       "      <td>Zaporizhia Oblast</td>\n",
       "      <td>Ukraine</td>\n",
       "      <td>2021-05-30 04:20:55</td>\n",
       "      <td>102641.0</td>\n",
       "      <td>2335.0</td>\n",
       "      <td>95289.0</td>\n",
       "    </tr>\n",
       "    <tr>\n",
       "      <th>306425</th>\n",
       "      <td>306426</td>\n",
       "      <td>2021-05-29</td>\n",
       "      <td>Zeeland</td>\n",
       "      <td>Netherlands</td>\n",
       "      <td>2021-05-30 04:20:55</td>\n",
       "      <td>29147.0</td>\n",
       "      <td>245.0</td>\n",
       "      <td>0.0</td>\n",
       "    </tr>\n",
       "    <tr>\n",
       "      <th>306426</th>\n",
       "      <td>306427</td>\n",
       "      <td>2021-05-29</td>\n",
       "      <td>Zhejiang</td>\n",
       "      <td>Mainland China</td>\n",
       "      <td>2021-05-30 04:20:55</td>\n",
       "      <td>1364.0</td>\n",
       "      <td>1.0</td>\n",
       "      <td>1324.0</td>\n",
       "    </tr>\n",
       "    <tr>\n",
       "      <th>306427</th>\n",
       "      <td>306428</td>\n",
       "      <td>2021-05-29</td>\n",
       "      <td>Zhytomyr Oblast</td>\n",
       "      <td>Ukraine</td>\n",
       "      <td>2021-05-30 04:20:55</td>\n",
       "      <td>87550.0</td>\n",
       "      <td>1738.0</td>\n",
       "      <td>83790.0</td>\n",
       "    </tr>\n",
       "    <tr>\n",
       "      <th>306428</th>\n",
       "      <td>306429</td>\n",
       "      <td>2021-05-29</td>\n",
       "      <td>Zuid-Holland</td>\n",
       "      <td>Netherlands</td>\n",
       "      <td>2021-05-30 04:20:55</td>\n",
       "      <td>391559.0</td>\n",
       "      <td>4252.0</td>\n",
       "      <td>0.0</td>\n",
       "    </tr>\n",
       "  </tbody>\n",
       "</table>\n",
       "<p>306429 rows × 8 columns</p>\n",
       "</div>"
      ],
      "text/plain": [
       "           SNo ObservationDate     Province/State  Country/Region  \\\n",
       "0            1      2020-01-22              Anhui  Mainland China   \n",
       "1            2      2020-01-22            Beijing  Mainland China   \n",
       "2            3      2020-01-22          Chongqing  Mainland China   \n",
       "3            4      2020-01-22             Fujian  Mainland China   \n",
       "4            5      2020-01-22              Gansu  Mainland China   \n",
       "...        ...             ...                ...             ...   \n",
       "306424  306425      2021-05-29  Zaporizhia Oblast         Ukraine   \n",
       "306425  306426      2021-05-29            Zeeland     Netherlands   \n",
       "306426  306427      2021-05-29           Zhejiang  Mainland China   \n",
       "306427  306428      2021-05-29    Zhytomyr Oblast         Ukraine   \n",
       "306428  306429      2021-05-29       Zuid-Holland     Netherlands   \n",
       "\n",
       "                Last Update  Confirmed  Deaths  Recovered  \n",
       "0           1/22/2020 17:00        1.0     0.0        0.0  \n",
       "1           1/22/2020 17:00       14.0     0.0        0.0  \n",
       "2           1/22/2020 17:00        6.0     0.0        0.0  \n",
       "3           1/22/2020 17:00        1.0     0.0        0.0  \n",
       "4           1/22/2020 17:00        0.0     0.0        0.0  \n",
       "...                     ...        ...     ...        ...  \n",
       "306424  2021-05-30 04:20:55   102641.0  2335.0    95289.0  \n",
       "306425  2021-05-30 04:20:55    29147.0   245.0        0.0  \n",
       "306426  2021-05-30 04:20:55     1364.0     1.0     1324.0  \n",
       "306427  2021-05-30 04:20:55    87550.0  1738.0    83790.0  \n",
       "306428  2021-05-30 04:20:55   391559.0  4252.0        0.0  \n",
       "\n",
       "[306429 rows x 8 columns]"
      ]
     },
     "metadata": {},
     "output_type": "display_data"
    }
   ],
   "source": [
    "display(df)"
   ]
  },
  {
   "cell_type": "code",
   "execution_count": 47,
   "metadata": {},
   "outputs": [],
   "source": [
    "df_lat_long_confirmed = pd.read_csv(r'C:\\Users\\mengh\\plotly dash covid app\\COVID-dashboard\\dataset\\time_series_covid_19_confirmed.csv')\n",
    "df_lat_long_deaths = pd.read_csv(r'C:\\Users\\mengh\\plotly dash covid app\\COVID-dashboard\\dataset\\time_series_covid_19_deaths.csv')\n",
    "df_lat_long_recovered = pd.read_csv(r'C:\\Users\\mengh\\plotly dash covid app\\COVID-dashboard\\dataset\\time_series_covid_19_recovered.csv')"
   ]
  },
  {
   "cell_type": "code",
   "execution_count": 50,
   "metadata": {},
   "outputs": [],
   "source": [
    "df_lat_long_confirmed.dropna(subset=['Province/State'],inplace=True)\n",
    "df_lat_long_deaths.dropna(subset=['Province/State'],inplace=True)\n",
    "df_lat_long_recovered.dropna(subset=['Province/State'],inplace=True)"
   ]
  },
  {
   "cell_type": "code",
   "execution_count": 51,
   "metadata": {},
   "outputs": [],
   "source": [
    "frames = [df_lat_long_confirmed, df_lat_long_deaths, df_lat_long_recovered]\n",
    "\n",
    "df_lat_long = pd.concat(frames)"
   ]
  },
  {
   "cell_type": "code",
   "execution_count": 52,
   "metadata": {},
   "outputs": [
    {
     "data": {
      "text/plain": [
       "Country/Region\n",
       "Australia          8\n",
       "Canada            16\n",
       "China             34\n",
       "Denmark            2\n",
       "France            11\n",
       "Netherlands        4\n",
       "United Kingdom    11\n",
       "Name: Province/State, dtype: int64"
      ]
     },
     "execution_count": 52,
     "metadata": {},
     "output_type": "execute_result"
    }
   ],
   "source": [
    "df_lat_long.groupby('Country/Region')['Province/State'].nunique()"
   ]
  },
  {
   "cell_type": "code",
   "execution_count": 32,
   "metadata": {},
   "outputs": [],
   "source": [
    "df_lat_long['country/province'] = df_lat_long.apply(lambda x: (x['Country/Region'],x['Province/State']), axis=1)"
   ]
  },
  {
   "cell_type": "code",
   "execution_count": 42,
   "metadata": {},
   "outputs": [
    {
     "data": {
      "text/plain": [
       "84"
      ]
     },
     "execution_count": 42,
     "metadata": {},
     "output_type": "execute_result"
    }
   ],
   "source": [
    "df_lat_long = df_lat_long[['Lat','Long','country/province']].reset_index()\n",
    "df_lat_long.dropna(how='any',inplace=True)\n",
    "len(set(df_lat_long['country/province']))"
   ]
  },
  {
   "cell_type": "code",
   "execution_count": 18,
   "metadata": {},
   "outputs": [],
   "source": [
    "contry_ls = set(df['Country/Region'])"
   ]
  },
  {
   "cell_type": "code",
   "execution_count": 20,
   "metadata": {},
   "outputs": [
    {
     "data": {
      "text/plain": [
       "229"
      ]
     },
     "execution_count": 20,
     "metadata": {},
     "output_type": "execute_result"
    }
   ],
   "source": [
    "len(contry_ls)"
   ]
  },
  {
   "cell_type": "code",
   "execution_count": 27,
   "metadata": {},
   "outputs": [
    {
     "data": {
      "text/plain": [
       "78100"
      ]
     },
     "execution_count": 27,
     "metadata": {},
     "output_type": "execute_result"
    }
   ],
   "source": [
    "df['Province/State'].isnull().sum()"
   ]
  },
  {
   "cell_type": "code",
   "execution_count": 39,
   "metadata": {},
   "outputs": [],
   "source": [
    "df_nonull = df.dropna(how='any')"
   ]
  },
  {
   "cell_type": "code",
   "execution_count": 40,
   "metadata": {},
   "outputs": [
    {
     "name": "stderr",
     "output_type": "stream",
     "text": [
      "C:\\Users\\mengh\\anaconda3\\lib\\site-packages\\ipykernel_launcher.py:1: SettingWithCopyWarning: \n",
      "A value is trying to be set on a copy of a slice from a DataFrame.\n",
      "Try using .loc[row_indexer,col_indexer] = value instead\n",
      "\n",
      "See the caveats in the documentation: https://pandas.pydata.org/pandas-docs/stable/user_guide/indexing.html#returning-a-view-versus-a-copy\n",
      "  \"\"\"Entry point for launching an IPython kernel.\n"
     ]
    }
   ],
   "source": [
    "df_nonull['country/province'] = df_nonull.apply(lambda x: (x['Country/Region'],x['Province/State']), axis=1)"
   ]
  },
  {
   "cell_type": "code",
   "execution_count": 35,
   "metadata": {},
   "outputs": [],
   "source": [
    "df_nonull = df_nonull.merge(df_lat_long,how=\"left\", on=[\"country/province\", \"country/province\"])"
   ]
  },
  {
   "cell_type": "code",
   "execution_count": 41,
   "metadata": {},
   "outputs": [
    {
     "data": {
      "text/html": [
       "<div>\n",
       "<style scoped>\n",
       "    .dataframe tbody tr th:only-of-type {\n",
       "        vertical-align: middle;\n",
       "    }\n",
       "\n",
       "    .dataframe tbody tr th {\n",
       "        vertical-align: top;\n",
       "    }\n",
       "\n",
       "    .dataframe thead th {\n",
       "        text-align: right;\n",
       "    }\n",
       "</style>\n",
       "<table border=\"1\" class=\"dataframe\">\n",
       "  <thead>\n",
       "    <tr style=\"text-align: right;\">\n",
       "      <th></th>\n",
       "      <th>SNo</th>\n",
       "      <th>ObservationDate</th>\n",
       "      <th>Province/State</th>\n",
       "      <th>Country/Region</th>\n",
       "      <th>Last Update</th>\n",
       "      <th>Confirmed</th>\n",
       "      <th>Deaths</th>\n",
       "      <th>Recovered</th>\n",
       "      <th>country/province</th>\n",
       "    </tr>\n",
       "  </thead>\n",
       "  <tbody>\n",
       "    <tr>\n",
       "      <th>306424</th>\n",
       "      <td>306425</td>\n",
       "      <td>2021-05-29</td>\n",
       "      <td>Zaporizhia Oblast</td>\n",
       "      <td>Ukraine</td>\n",
       "      <td>2021-05-30 04:20:55</td>\n",
       "      <td>102641.0</td>\n",
       "      <td>2335.0</td>\n",
       "      <td>95289.0</td>\n",
       "      <td>(Ukraine, Zaporizhia Oblast)</td>\n",
       "    </tr>\n",
       "    <tr>\n",
       "      <th>306425</th>\n",
       "      <td>306426</td>\n",
       "      <td>2021-05-29</td>\n",
       "      <td>Zeeland</td>\n",
       "      <td>Netherlands</td>\n",
       "      <td>2021-05-30 04:20:55</td>\n",
       "      <td>29147.0</td>\n",
       "      <td>245.0</td>\n",
       "      <td>0.0</td>\n",
       "      <td>(Netherlands, Zeeland)</td>\n",
       "    </tr>\n",
       "    <tr>\n",
       "      <th>306426</th>\n",
       "      <td>306427</td>\n",
       "      <td>2021-05-29</td>\n",
       "      <td>Zhejiang</td>\n",
       "      <td>Mainland China</td>\n",
       "      <td>2021-05-30 04:20:55</td>\n",
       "      <td>1364.0</td>\n",
       "      <td>1.0</td>\n",
       "      <td>1324.0</td>\n",
       "      <td>(Mainland China, Zhejiang)</td>\n",
       "    </tr>\n",
       "    <tr>\n",
       "      <th>306427</th>\n",
       "      <td>306428</td>\n",
       "      <td>2021-05-29</td>\n",
       "      <td>Zhytomyr Oblast</td>\n",
       "      <td>Ukraine</td>\n",
       "      <td>2021-05-30 04:20:55</td>\n",
       "      <td>87550.0</td>\n",
       "      <td>1738.0</td>\n",
       "      <td>83790.0</td>\n",
       "      <td>(Ukraine, Zhytomyr Oblast)</td>\n",
       "    </tr>\n",
       "    <tr>\n",
       "      <th>306428</th>\n",
       "      <td>306429</td>\n",
       "      <td>2021-05-29</td>\n",
       "      <td>Zuid-Holland</td>\n",
       "      <td>Netherlands</td>\n",
       "      <td>2021-05-30 04:20:55</td>\n",
       "      <td>391559.0</td>\n",
       "      <td>4252.0</td>\n",
       "      <td>0.0</td>\n",
       "      <td>(Netherlands, Zuid-Holland)</td>\n",
       "    </tr>\n",
       "  </tbody>\n",
       "</table>\n",
       "</div>"
      ],
      "text/plain": [
       "           SNo ObservationDate     Province/State  Country/Region  \\\n",
       "306424  306425      2021-05-29  Zaporizhia Oblast         Ukraine   \n",
       "306425  306426      2021-05-29            Zeeland     Netherlands   \n",
       "306426  306427      2021-05-29           Zhejiang  Mainland China   \n",
       "306427  306428      2021-05-29    Zhytomyr Oblast         Ukraine   \n",
       "306428  306429      2021-05-29       Zuid-Holland     Netherlands   \n",
       "\n",
       "                Last Update  Confirmed  Deaths  Recovered  \\\n",
       "306424  2021-05-30 04:20:55   102641.0  2335.0    95289.0   \n",
       "306425  2021-05-30 04:20:55    29147.0   245.0        0.0   \n",
       "306426  2021-05-30 04:20:55     1364.0     1.0     1324.0   \n",
       "306427  2021-05-30 04:20:55    87550.0  1738.0    83790.0   \n",
       "306428  2021-05-30 04:20:55   391559.0  4252.0        0.0   \n",
       "\n",
       "                    country/province  \n",
       "306424  (Ukraine, Zaporizhia Oblast)  \n",
       "306425        (Netherlands, Zeeland)  \n",
       "306426    (Mainland China, Zhejiang)  \n",
       "306427    (Ukraine, Zhytomyr Oblast)  \n",
       "306428   (Netherlands, Zuid-Holland)  "
      ]
     },
     "execution_count": 41,
     "metadata": {},
     "output_type": "execute_result"
    }
   ],
   "source": [
    "df_nonull.tail()"
   ]
  },
  {
   "cell_type": "code",
   "execution_count": 29,
   "metadata": {},
   "outputs": [
    {
     "data": {
      "text/plain": [
       "Country/Region\n",
       " Azerbaijan                     0\n",
       "('St. Martin',)                 0\n",
       "Afghanistan                     0\n",
       "Albania                         0\n",
       "Algeria                         0\n",
       "Andorra                         0\n",
       "Angola                          0\n",
       "Antigua and Barbuda             0\n",
       "Argentina                       0\n",
       "Armenia                         0\n",
       "Aruba                           0\n",
       "Australia                    3785\n",
       "Austria                         1\n",
       "Azerbaijan                      0\n",
       "Bahamas                         0\n",
       "Bahamas, The                    0\n",
       "Bahrain                         0\n",
       "Bangladesh                      0\n",
       "Barbados                        0\n",
       "Belarus                         0\n",
       "Belgium                      2388\n",
       "Belize                          0\n",
       "Benin                           0\n",
       "Bhutan                          0\n",
       "Bolivia                         0\n",
       "Bosnia and Herzegovina          0\n",
       "Botswana                        0\n",
       "Brazil                      10144\n",
       "Brunei                          0\n",
       "Bulgaria                        0\n",
       "Burkina Faso                    0\n",
       "Burma                           0\n",
       "Burundi                         0\n",
       "Cabo Verde                      0\n",
       "Cambodia                        0\n",
       "Cameroon                        0\n",
       "Canada                       6960\n",
       "Cape Verde                      0\n",
       "Cayman Islands                  0\n",
       "Central African Republic        0\n",
       "Chad                            0\n",
       "Channel Islands                 0\n",
       "Chile                        6375\n",
       "China                          48\n",
       "Colombia                    12419\n",
       "Comoros                         0\n",
       "Congo (Brazzaville)             0\n",
       "Congo (Kinshasa)                0\n",
       "Costa Rica                      0\n",
       "Croatia                         0\n",
       "Name: Province/State, dtype: int64"
      ]
     },
     "execution_count": 29,
     "metadata": {},
     "output_type": "execute_result"
    }
   ],
   "source": [
    "df.groupby('Country/Region')['Province/State'].count()[:50]"
   ]
  },
  {
   "cell_type": "code",
   "execution_count": 14,
   "metadata": {},
   "outputs": [
    {
     "data": {
      "text/plain": [
       "Country/Region\n",
       "Australia          8\n",
       "Canada            16\n",
       "China             34\n",
       "Denmark            2\n",
       "France            11\n",
       "Netherlands        4\n",
       "United Kingdom    11\n",
       "Name: Province/State, dtype: int64"
      ]
     },
     "execution_count": 14,
     "metadata": {},
     "output_type": "execute_result"
    }
   ],
   "source": [
    "df_lat_long.groupby('Country/Region')['Province/State'].nunique()"
   ]
  },
  {
   "cell_type": "code",
   "execution_count": 16,
   "metadata": {},
   "outputs": [
    {
     "data": {
      "text/plain": [
       "Country/Region\n",
       "Australia          12\n",
       "Austria             1\n",
       "Belgium            12\n",
       "Brazil             28\n",
       "Canada             22\n",
       "Chile              17\n",
       "China               1\n",
       "Colombia           34\n",
       "Denmark             3\n",
       "France             13\n",
       "Germany            18\n",
       "Hong Kong           1\n",
       "India              38\n",
       "Iraq                1\n",
       "Israel              1\n",
       "Italy              21\n",
       "Japan              49\n",
       "Lebanon             1\n",
       "Macau               1\n",
       "Mainland China     32\n",
       "Mexico             33\n",
       "Netherlands        18\n",
       "Others              2\n",
       "Pakistan            7\n",
       "Peru               26\n",
       "Russia             83\n",
       "Spain              20\n",
       "Sweden             21\n",
       "Taiwan              1\n",
       "UK                 19\n",
       "US                199\n",
       "Ukraine            27\n",
       "Name: Province/State, dtype: int64"
      ]
     },
     "execution_count": 16,
     "metadata": {},
     "output_type": "execute_result"
    }
   ],
   "source": [
    "df_nonull.groupby('Country/Region')['Province/State'].nunique()"
   ]
  },
  {
   "cell_type": "code",
   "execution_count": 34,
   "metadata": {},
   "outputs": [
    {
     "data": {
      "text/plain": [
       "(228329, 8)"
      ]
     },
     "execution_count": 34,
     "metadata": {},
     "output_type": "execute_result"
    }
   ],
   "source": [
    "df_nonull.shape"
   ]
  },
  {
   "cell_type": "code",
   "execution_count": 36,
   "metadata": {},
   "outputs": [],
   "source": [
    "df_confirmed = pd.read_csv(r'C:\\Users\\mengh\\plotly dash covid app\\COVID-dashboard\\dataset\\time_series_covid_19_confirmed.csv')\n",
    "df_confirmed_us = pd.read_csv(r'C:\\Users\\mengh\\plotly dash covid app\\COVID-dashboard\\dataset\\time_series_covid_19_confirmed_US.csv')\n",
    "df_death = pd.read_csv(r'C:\\Users\\mengh\\plotly dash covid app\\COVID-dashboard\\dataset\\time_series_covid_19_deaths.csv')\n",
    "df_death_us = pd.read_csv(r'C:\\Users\\mengh\\plotly dash covid app\\COVID-dashboard\\dataset\\time_series_covid_19_deaths_US.csv')\n",
    "df_recovered = pd.read_csv(r'C:\\Users\\mengh\\plotly dash covid app\\COVID-dashboard\\dataset\\time_series_covid_19_recovered.csv')"
   ]
  },
  {
   "cell_type": "code",
   "execution_count": 39,
   "metadata": {},
   "outputs": [],
   "source": [
    "## all the rest of the .csv files are summarized by the first .csv \n",
    "## Only with the addition of lat and long information of each cities"
   ]
  },
  {
   "cell_type": "code",
   "execution_count": 38,
   "metadata": {},
   "outputs": [
    {
     "data": {
      "text/html": [
       "<div>\n",
       "<style scoped>\n",
       "    .dataframe tbody tr th:only-of-type {\n",
       "        vertical-align: middle;\n",
       "    }\n",
       "\n",
       "    .dataframe tbody tr th {\n",
       "        vertical-align: top;\n",
       "    }\n",
       "\n",
       "    .dataframe thead th {\n",
       "        text-align: right;\n",
       "    }\n",
       "</style>\n",
       "<table border=\"1\" class=\"dataframe\">\n",
       "  <thead>\n",
       "    <tr style=\"text-align: right;\">\n",
       "      <th></th>\n",
       "      <th>Lat</th>\n",
       "      <th>Long</th>\n",
       "      <th>1/22/20</th>\n",
       "      <th>1/23/20</th>\n",
       "      <th>1/24/20</th>\n",
       "      <th>1/25/20</th>\n",
       "      <th>1/26/20</th>\n",
       "      <th>1/27/20</th>\n",
       "      <th>1/28/20</th>\n",
       "      <th>1/29/20</th>\n",
       "      <th>...</th>\n",
       "      <th>5/20/21</th>\n",
       "      <th>5/21/21</th>\n",
       "      <th>5/22/21</th>\n",
       "      <th>5/23/21</th>\n",
       "      <th>5/24/21</th>\n",
       "      <th>5/25/21</th>\n",
       "      <th>5/26/21</th>\n",
       "      <th>5/27/21</th>\n",
       "      <th>5/28/21</th>\n",
       "      <th>5/29/21</th>\n",
       "    </tr>\n",
       "  </thead>\n",
       "  <tbody>\n",
       "    <tr>\n",
       "      <th>count</th>\n",
       "      <td>274.000000</td>\n",
       "      <td>274.000000</td>\n",
       "      <td>276.000000</td>\n",
       "      <td>276.000000</td>\n",
       "      <td>276.000000</td>\n",
       "      <td>276.000000</td>\n",
       "      <td>276.000000</td>\n",
       "      <td>276.000000</td>\n",
       "      <td>276.000000</td>\n",
       "      <td>276.000000</td>\n",
       "      <td>...</td>\n",
       "      <td>2.760000e+02</td>\n",
       "      <td>2.760000e+02</td>\n",
       "      <td>2.760000e+02</td>\n",
       "      <td>2.760000e+02</td>\n",
       "      <td>2.760000e+02</td>\n",
       "      <td>2.760000e+02</td>\n",
       "      <td>2.760000e+02</td>\n",
       "      <td>2.760000e+02</td>\n",
       "      <td>2.760000e+02</td>\n",
       "      <td>2.760000e+02</td>\n",
       "    </tr>\n",
       "    <tr>\n",
       "      <th>mean</th>\n",
       "      <td>20.447559</td>\n",
       "      <td>22.328281</td>\n",
       "      <td>2.018116</td>\n",
       "      <td>2.373188</td>\n",
       "      <td>3.409420</td>\n",
       "      <td>5.192029</td>\n",
       "      <td>7.673913</td>\n",
       "      <td>10.605072</td>\n",
       "      <td>20.210145</td>\n",
       "      <td>22.344203</td>\n",
       "      <td>...</td>\n",
       "      <td>5.984867e+05</td>\n",
       "      <td>6.007543e+05</td>\n",
       "      <td>6.028478e+05</td>\n",
       "      <td>6.045727e+05</td>\n",
       "      <td>6.062187e+05</td>\n",
       "      <td>6.081457e+05</td>\n",
       "      <td>6.102044e+05</td>\n",
       "      <td>6.122130e+05</td>\n",
       "      <td>6.140244e+05</td>\n",
       "      <td>6.157665e+05</td>\n",
       "    </tr>\n",
       "    <tr>\n",
       "      <th>std</th>\n",
       "      <td>25.189838</td>\n",
       "      <td>74.369096</td>\n",
       "      <td>26.781738</td>\n",
       "      <td>26.879567</td>\n",
       "      <td>33.464159</td>\n",
       "      <td>46.575328</td>\n",
       "      <td>65.089830</td>\n",
       "      <td>87.699030</td>\n",
       "      <td>215.201418</td>\n",
       "      <td>216.521511</td>\n",
       "      <td>...</td>\n",
       "      <td>2.797198e+06</td>\n",
       "      <td>2.808982e+06</td>\n",
       "      <td>2.819859e+06</td>\n",
       "      <td>2.828976e+06</td>\n",
       "      <td>2.837786e+06</td>\n",
       "      <td>2.847660e+06</td>\n",
       "      <td>2.857958e+06</td>\n",
       "      <td>2.867378e+06</td>\n",
       "      <td>2.875765e+06</td>\n",
       "      <td>2.883996e+06</td>\n",
       "    </tr>\n",
       "    <tr>\n",
       "      <th>min</th>\n",
       "      <td>-51.796300</td>\n",
       "      <td>-178.116500</td>\n",
       "      <td>0.000000</td>\n",
       "      <td>0.000000</td>\n",
       "      <td>0.000000</td>\n",
       "      <td>0.000000</td>\n",
       "      <td>0.000000</td>\n",
       "      <td>0.000000</td>\n",
       "      <td>0.000000</td>\n",
       "      <td>0.000000</td>\n",
       "      <td>...</td>\n",
       "      <td>0.000000e+00</td>\n",
       "      <td>0.000000e+00</td>\n",
       "      <td>0.000000e+00</td>\n",
       "      <td>0.000000e+00</td>\n",
       "      <td>0.000000e+00</td>\n",
       "      <td>0.000000e+00</td>\n",
       "      <td>0.000000e+00</td>\n",
       "      <td>0.000000e+00</td>\n",
       "      <td>0.000000e+00</td>\n",
       "      <td>0.000000e+00</td>\n",
       "    </tr>\n",
       "    <tr>\n",
       "      <th>25%</th>\n",
       "      <td>4.933349</td>\n",
       "      <td>-22.036550</td>\n",
       "      <td>0.000000</td>\n",
       "      <td>0.000000</td>\n",
       "      <td>0.000000</td>\n",
       "      <td>0.000000</td>\n",
       "      <td>0.000000</td>\n",
       "      <td>0.000000</td>\n",
       "      <td>0.000000</td>\n",
       "      <td>0.000000</td>\n",
       "      <td>...</td>\n",
       "      <td>1.316250e+03</td>\n",
       "      <td>1.316250e+03</td>\n",
       "      <td>1.316250e+03</td>\n",
       "      <td>1.316250e+03</td>\n",
       "      <td>1.316250e+03</td>\n",
       "      <td>1.316250e+03</td>\n",
       "      <td>1.328250e+03</td>\n",
       "      <td>1.335000e+03</td>\n",
       "      <td>1.346250e+03</td>\n",
       "      <td>1.351500e+03</td>\n",
       "    </tr>\n",
       "    <tr>\n",
       "      <th>50%</th>\n",
       "      <td>21.607879</td>\n",
       "      <td>20.921188</td>\n",
       "      <td>0.000000</td>\n",
       "      <td>0.000000</td>\n",
       "      <td>0.000000</td>\n",
       "      <td>0.000000</td>\n",
       "      <td>0.000000</td>\n",
       "      <td>0.000000</td>\n",
       "      <td>0.000000</td>\n",
       "      <td>0.000000</td>\n",
       "      <td>...</td>\n",
       "      <td>1.869000e+04</td>\n",
       "      <td>1.888950e+04</td>\n",
       "      <td>1.897900e+04</td>\n",
       "      <td>1.899650e+04</td>\n",
       "      <td>1.901950e+04</td>\n",
       "      <td>1.904750e+04</td>\n",
       "      <td>1.907100e+04</td>\n",
       "      <td>1.909950e+04</td>\n",
       "      <td>1.913300e+04</td>\n",
       "      <td>1.916150e+04</td>\n",
       "    </tr>\n",
       "    <tr>\n",
       "      <th>75%</th>\n",
       "      <td>40.950592</td>\n",
       "      <td>83.380449</td>\n",
       "      <td>0.000000</td>\n",
       "      <td>0.000000</td>\n",
       "      <td>0.000000</td>\n",
       "      <td>0.000000</td>\n",
       "      <td>0.000000</td>\n",
       "      <td>0.000000</td>\n",
       "      <td>0.000000</td>\n",
       "      <td>0.000000</td>\n",
       "      <td>...</td>\n",
       "      <td>2.504960e+05</td>\n",
       "      <td>2.512458e+05</td>\n",
       "      <td>2.518208e+05</td>\n",
       "      <td>2.522262e+05</td>\n",
       "      <td>2.525150e+05</td>\n",
       "      <td>2.527770e+05</td>\n",
       "      <td>2.530820e+05</td>\n",
       "      <td>2.533535e+05</td>\n",
       "      <td>2.535725e+05</td>\n",
       "      <td>2.540952e+05</td>\n",
       "    </tr>\n",
       "    <tr>\n",
       "      <th>max</th>\n",
       "      <td>71.706900</td>\n",
       "      <td>178.065000</td>\n",
       "      <td>444.000000</td>\n",
       "      <td>444.000000</td>\n",
       "      <td>549.000000</td>\n",
       "      <td>761.000000</td>\n",
       "      <td>1058.000000</td>\n",
       "      <td>1423.000000</td>\n",
       "      <td>3554.000000</td>\n",
       "      <td>3554.000000</td>\n",
       "      <td>...</td>\n",
       "      <td>3.305676e+07</td>\n",
       "      <td>3.308511e+07</td>\n",
       "      <td>3.310488e+07</td>\n",
       "      <td>3.311774e+07</td>\n",
       "      <td>3.314366e+07</td>\n",
       "      <td>3.316642e+07</td>\n",
       "      <td>3.319047e+07</td>\n",
       "      <td>3.321800e+07</td>\n",
       "      <td>3.323996e+07</td>\n",
       "      <td>3.325194e+07</td>\n",
       "    </tr>\n",
       "  </tbody>\n",
       "</table>\n",
       "<p>8 rows × 496 columns</p>\n",
       "</div>"
      ],
      "text/plain": [
       "              Lat        Long     1/22/20     1/23/20     1/24/20     1/25/20  \\\n",
       "count  274.000000  274.000000  276.000000  276.000000  276.000000  276.000000   \n",
       "mean    20.447559   22.328281    2.018116    2.373188    3.409420    5.192029   \n",
       "std     25.189838   74.369096   26.781738   26.879567   33.464159   46.575328   \n",
       "min    -51.796300 -178.116500    0.000000    0.000000    0.000000    0.000000   \n",
       "25%      4.933349  -22.036550    0.000000    0.000000    0.000000    0.000000   \n",
       "50%     21.607879   20.921188    0.000000    0.000000    0.000000    0.000000   \n",
       "75%     40.950592   83.380449    0.000000    0.000000    0.000000    0.000000   \n",
       "max     71.706900  178.065000  444.000000  444.000000  549.000000  761.000000   \n",
       "\n",
       "           1/26/20      1/27/20      1/28/20      1/29/20  ...       5/20/21  \\\n",
       "count   276.000000   276.000000   276.000000   276.000000  ...  2.760000e+02   \n",
       "mean      7.673913    10.605072    20.210145    22.344203  ...  5.984867e+05   \n",
       "std      65.089830    87.699030   215.201418   216.521511  ...  2.797198e+06   \n",
       "min       0.000000     0.000000     0.000000     0.000000  ...  0.000000e+00   \n",
       "25%       0.000000     0.000000     0.000000     0.000000  ...  1.316250e+03   \n",
       "50%       0.000000     0.000000     0.000000     0.000000  ...  1.869000e+04   \n",
       "75%       0.000000     0.000000     0.000000     0.000000  ...  2.504960e+05   \n",
       "max    1058.000000  1423.000000  3554.000000  3554.000000  ...  3.305676e+07   \n",
       "\n",
       "            5/21/21       5/22/21       5/23/21       5/24/21       5/25/21  \\\n",
       "count  2.760000e+02  2.760000e+02  2.760000e+02  2.760000e+02  2.760000e+02   \n",
       "mean   6.007543e+05  6.028478e+05  6.045727e+05  6.062187e+05  6.081457e+05   \n",
       "std    2.808982e+06  2.819859e+06  2.828976e+06  2.837786e+06  2.847660e+06   \n",
       "min    0.000000e+00  0.000000e+00  0.000000e+00  0.000000e+00  0.000000e+00   \n",
       "25%    1.316250e+03  1.316250e+03  1.316250e+03  1.316250e+03  1.316250e+03   \n",
       "50%    1.888950e+04  1.897900e+04  1.899650e+04  1.901950e+04  1.904750e+04   \n",
       "75%    2.512458e+05  2.518208e+05  2.522262e+05  2.525150e+05  2.527770e+05   \n",
       "max    3.308511e+07  3.310488e+07  3.311774e+07  3.314366e+07  3.316642e+07   \n",
       "\n",
       "            5/26/21       5/27/21       5/28/21       5/29/21  \n",
       "count  2.760000e+02  2.760000e+02  2.760000e+02  2.760000e+02  \n",
       "mean   6.102044e+05  6.122130e+05  6.140244e+05  6.157665e+05  \n",
       "std    2.857958e+06  2.867378e+06  2.875765e+06  2.883996e+06  \n",
       "min    0.000000e+00  0.000000e+00  0.000000e+00  0.000000e+00  \n",
       "25%    1.328250e+03  1.335000e+03  1.346250e+03  1.351500e+03  \n",
       "50%    1.907100e+04  1.909950e+04  1.913300e+04  1.916150e+04  \n",
       "75%    2.530820e+05  2.533535e+05  2.535725e+05  2.540952e+05  \n",
       "max    3.319047e+07  3.321800e+07  3.323996e+07  3.325194e+07  \n",
       "\n",
       "[8 rows x 496 columns]"
      ]
     },
     "execution_count": 38,
     "metadata": {},
     "output_type": "execute_result"
    }
   ],
   "source": [
    "df_confirmed.describe()"
   ]
  },
  {
   "cell_type": "code",
   "execution_count": null,
   "metadata": {},
   "outputs": [],
   "source": []
  }
 ],
 "metadata": {
  "kernelspec": {
   "display_name": "Python 3",
   "language": "python",
   "name": "python3"
  },
  "language_info": {
   "codemirror_mode": {
    "name": "ipython",
    "version": 3
   },
   "file_extension": ".py",
   "mimetype": "text/x-python",
   "name": "python",
   "nbconvert_exporter": "python",
   "pygments_lexer": "ipython3",
   "version": "3.7.6"
  }
 },
 "nbformat": 4,
 "nbformat_minor": 4
}
